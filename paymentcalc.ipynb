{
 "cells": [
  {
   "cell_type": "code",
   "execution_count": 1,
   "metadata": {},
   "outputs": [
    {
     "data": {
      "text/plain": [
       "1414.28"
      ]
     },
     "execution_count": 1,
     "metadata": {},
     "output_type": "execute_result"
    }
   ],
   "source": [
    "def totalweekPay (points, miles):\n",
    "    #calculate reimbursement for miles\n",
    "    milePay = miles * 0.43\n",
    "    #set weekly salary earning\n",
    "    salaryEarning = 1076.88\n",
    "    \n",
    "    #if statement for reimbursement for meeting points\n",
    "    if points <= 18:\n",
    "        #add salary and mileage together\n",
    "        sum = salaryEarning + milePay\n",
    "        #return and round the decimal to 2 places\n",
    "        return round(sum, 2)\n",
    "\n",
    "    #if statement for when I work over points\n",
    "    elif points > 18:\n",
    "        #calculate extra earnings from extra points\n",
    "        extraPointPay = (points - 18) * 65\n",
    "        #add everything together\n",
    "        sum = salaryEarning + milePay + extraPointPay\n",
    "        #return and round the decimal\n",
    "        return round(sum, 2)\n",
    "\n",
    "totalweekPay(22, 180)\n"
   ]
  }
 ],
 "metadata": {
  "interpreter": {
   "hash": "aee8b7b246df8f9039afb4144a1f6fd8d2ca17a180786b69acc140d282b71a49"
  },
  "kernelspec": {
   "display_name": "Python 3.10.4 64-bit",
   "language": "python",
   "name": "python3"
  },
  "language_info": {
   "codemirror_mode": {
    "name": "ipython",
    "version": 3
   },
   "file_extension": ".py",
   "mimetype": "text/x-python",
   "name": "python",
   "nbconvert_exporter": "python",
   "pygments_lexer": "ipython3",
   "version": "3.10.4"
  },
  "orig_nbformat": 4
 },
 "nbformat": 4,
 "nbformat_minor": 2
}
